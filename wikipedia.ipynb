{
 "cells": [
  {
   "cell_type": "code",
   "execution_count": 110,
   "metadata": {},
   "outputs": [],
   "source": [
    "from bs4 import BeautifulSoup\n",
    "from bs4 import NavigableString\n",
    "import urllib.request as RequestLib\n",
    "from string import Template\n",
    "import re\n",
    "import sys"
   ]
  },
  {
   "cell_type": "code",
   "execution_count": 2,
   "metadata": {},
   "outputs": [],
   "source": [
    "def fetch(wiki_url):\n",
    "    headers = {'User-Agent':'Mozilla/5.0 (Windows NT 6.1; WOW64; rv:23.0) Gecko/20100101 Firefox/23.0'}\n",
    "    req = RequestLib.Request(wiki_url, headers=headers)\n",
    "    html = RequestLib.urlopen(req).read()\n",
    "    return BeautifulSoup(html, 'html.parser')"
   ]
  },
  {
   "cell_type": "code",
   "execution_count": 159,
   "metadata": {},
   "outputs": [],
   "source": [
    "def extract_birth(bsObj):\n",
    "    bday = bsObj.select('span.bday')\n",
    "    birthplace = bsObj.select('div.birthplace')\n",
    "    if bday:\n",
    "        bday = bday[0].text\n",
    "    else:\n",
    "        bday = bsObj.text\n",
    "        \n",
    "    if birthplace:\n",
    "        birthplace = birthplace[0].text\n",
    "    else:\n",
    "        birthplace = None\n",
    "\n",
    "    return {\n",
    "        'date': bday,\n",
    "        'place': birthplace\n",
    "    }"
   ]
  },
  {
   "cell_type": "code",
   "execution_count": 160,
   "metadata": {},
   "outputs": [],
   "source": [
    "def extract_death(bsObj):\n",
    "    dday = bsObj.select('span')\n",
    "    place = bsObj.select('div.deathplace')\n",
    "    if dday:\n",
    "        dday = dday[0].text\n",
    "    else:\n",
    "        bday = bsObj.text\n",
    "        \n",
    "    if place:\n",
    "        place = place[0].text\n",
    "    else:\n",
    "        place = None\n",
    "\n",
    "    return {\n",
    "        'date': dday,\n",
    "        'place': place\n",
    "    }"
   ]
  },
  {
   "cell_type": "code",
   "execution_count": 114,
   "metadata": {},
   "outputs": [
    {
     "name": "stdout",
     "output_type": "stream",
     "text": [
      "[{'year': '1967', 'title': 'Member of the National Academy of Sciences', 'url': 'x/wiki/Member_of_the_National_Academy_of_Sciences'}, {'year': '1975', 'title': 'Turing Award', 'url': 'x/wiki/Turing_Award'}, {'year': '1978', 'title': 'Nobel Prize in Economics', 'url': 'x/wiki/Nobel_Prize_in_Economics'}, {'year': '1986', 'title': 'National Medal of Science', 'url': 'x/wiki/National_Medal_of_Science'}, {'year': '1987', 'title': 'Harold Pender Award', 'url': 'x/wiki/Harold_Pender_Award'}, {'year': '1988', 'title': 'von Neumann Theory Prize', 'url': 'x/wiki/John_von_Neumann_Theory_Prize'}, {'year': '1969', 'title': 'APA Award for Distinguished Scientific Contributions to Psychology', 'url': 'x/wiki/APA_Award_for_Distinguished_Scientific_Contributions_to_Psychology'}, {'year': '1994', 'title': 'ACM Fellow', 'url': 'x/wiki/ACM_Fellow'}, {'year': '1995', 'title': 'IJCAI Award for Research Excellence', 'url': 'x/wiki/IJCAI_Award_for_Research_Excellence'}]\n",
      "==================\n",
      "[{'title': 'Distinguished Scholar of Organizations and Management Theory'}, {'year': '2007', 'title': 'Academy of Management (2007)  Fellow'}, {'year': '1993', 'title': 'American Academy of Arts and Sciences (1993)  Fellow'}, {'year': '1984', 'title': 'Center for Advanced Study in the Behavioral Sciences (1984)'}]\n",
      "==================\n",
      "[{'year': '2007', 'title': 'APA'}, {'year': '2002', 'title': 'Nobel Memorial Prize in Economic Sciences'}, {'year': '2010', 'title': 'Tufts UniversityLeontief Prize'}, {'year': '1982', 'title': 'APS'}, {'year': '2003', 'title': 'University of LouisvilleGrawemeyer Award'}]\n",
      "==================\n",
      "[{'year': '1971', 'title': 'Turing Award'}, {'year': '1985', 'title': 'Computer Pioneer Award'}, {'year': '1985', 'title': 'IJCAI Award for Research Excellence'}, {'year': '1988', 'title': 'Kyoto Prize'}, {'year': '1990', 'title': 'National Medal of Science'}]\n"
     ]
    }
   ],
   "source": [
    "def extract_awards(bsObj, base):\n",
    "    val = []\n",
    "    if bsObj.div:\n",
    "        for li in bsObj.div.ul.select('li'):\n",
    "            val.append({\n",
    "                \"title\": li.a.text,\n",
    "                \"url\": base+li.a.attrs['href'],\n",
    "                'year': li.small.text[1:-1]\n",
    "            })\n",
    "    elif len(bsObj.text.split(',')) > 1:\n",
    "        for e in bsObj.text.split(','):\n",
    "            v = { 'title': e.strip() }\n",
    "            year = re.search('\\((\\d{1,4})\\)', e.strip())\n",
    "            if year:\n",
    "                v['year'] = year.groups()[0]\n",
    "            val.append(v)\n",
    "    else:\n",
    "        v = ''\n",
    "        year = None\n",
    "        for e in bsObj.contents:\n",
    "            if isinstance(e, NavigableString):\n",
    "                year = re.search('\\((\\d{1,4})\\)', e.strip())\n",
    "                if year:\n",
    "                    year = year.groups()[0]\n",
    "            elif e.name == 'br':\n",
    "                v = { 'title': v.strip() }\n",
    "                if year:\n",
    "                    v['year'] = year\n",
    "                val.append(v)\n",
    "                v = ''\n",
    "            else:\n",
    "                v += e.text\n",
    "\n",
    "    return val"
   ]
  },
  {
   "cell_type": "code",
   "execution_count": 161,
   "metadata": {},
   "outputs": [],
   "source": [
    "def parse_vcard(vcard):\n",
    "    rows = vcard.select('tr')\n",
    "    base = 'https://en.wikipedia.org'\n",
    "\n",
    "    extract_method = {\n",
    "        'Citizenship': 'text',\n",
    "        'Children': 'text',\n",
    "        'Alma\\xa0mater': 'a-list',\n",
    "        'Known\\xa0for': 'a-list',\n",
    "        'Fields': 'a-list',\n",
    "        'Institutions': 'a-list',\n",
    "        'Doctoral advisor': 'a-list',\n",
    "        'Other\\xa0academic advisors': 'a-list',\n",
    "        'Doctoral students': 'a-list',\n",
    "        'Influences': 'a-list',\n",
    "        'Influenced': 'a-list'\n",
    "    }\n",
    "    \n",
    "    name = rows[0].select('div.fn')[0].text\n",
    "    data = {'name': name }\n",
    "\n",
    "    for tr in rows:\n",
    "        if tr.th and tr.th.attrs.get('scope'):\n",
    "            td = tr.td\n",
    "            key = tr.th.text.strip()\n",
    "            method = extract_method.get(key)\n",
    "            val = \"\"\n",
    "            if method == 'a-list':\n",
    "                val = []\n",
    "                for a in td.select('a'):\n",
    "                    if a.text.find('[') != -1:\n",
    "                        continue\n",
    "                    val.append({ 'title': a.text, 'url': base+a.attrs['href'] })\n",
    "            elif method == 'text':\n",
    "                val = td.text\n",
    "            elif key == 'Born':\n",
    "                val = extract_birth(td)\n",
    "            elif key == 'Died':\n",
    "                val = extract_death(td)\n",
    "            elif key == 'Spouse(s)':\n",
    "                val = []\n",
    "                for d in td.select('div'):\n",
    "                    val.append({ 'name': d.text })\n",
    "            elif key == 'Awards':\n",
    "                val = extract_awards(td, base)\n",
    "            else:\n",
    "                val = td\n",
    "\n",
    "            data[key.replace('\\xa0', ' ')] = val\n",
    "\n",
    "    return data"
   ]
  },
  {
   "cell_type": "code",
   "execution_count": 116,
   "metadata": {},
   "outputs": [],
   "source": [
    "def get_people(wiki_url):\n",
    "    bsObj = fetch(wiki_url)\n",
    "    title = bsObj.select('h1.firstHeading')[0].text\n",
    "    biography = [['People_Name', title], ['Wikipedia_url', wiki_url]]\n",
    "\n",
    "    vcard = parse_vcard(bsObj.select('table.vcard')[0])\n",
    "    vcard['wiki_url'] = wiki_url\n",
    "    return vcard"
   ]
  },
  {
   "cell_type": "code",
   "execution_count": 164,
   "metadata": {},
   "outputs": [],
   "source": [
    "class MyTemplate(Template):\n",
    "    idpattern = r'[_a-zA-Z][_:.a-zA-Z0-9]*'\n",
    "\n",
    "template = MyTemplate(\"\"\"\n",
    "# ${name}\n",
    "维基百科地址：[${name}](${wiki_url})\n",
    "## 时间\n",
    "### 生卒年月\n",
    "${Born.date} - ${Died.date}\n",
    "### 求学经历\n",
    "${Alma_mater}\n",
    "## 空间\n",
    "### 学术领域\n",
    "${Fields}\n",
    "### 获奖情况\n",
    "${Awards}\n",
    "### 所属机构\n",
    "${Institutions}\n",
    "## 变量\n",
    "### 主要成就\n",
    "${Known_for}\n",
    "### 合作关系\n",
    "\n",
    "### 师承关系\n",
    "#### 老师\n",
    "${Doctoral_advisor}\n",
    "${Other_academic_advisors}\n",
    "#### 学生\n",
    "${Doctoral_students}\n",
    "\"\"\")\n",
    "\n",
    "def render_md(biography):\n",
    "    data = {}\n",
    "\n",
    "    for k in biography:\n",
    "        e = biography[k]\n",
    "        k = k.replace(' ', '_')\n",
    "        \n",
    "        if type(e) is list:\n",
    "            v = \"\"\n",
    "            for a in e:\n",
    "                if a.get('title'):\n",
    "                    if a.get('url'):\n",
    "                        v = v + '* [%s](%s)\\n' % (a['title'], a['url'])\n",
    "                    else:\n",
    "                        v = v + '* %s\\n' % (a['title'])\n",
    "            data[k] = v\n",
    "        elif type(e) is dict:\n",
    "            for l in e:\n",
    "                data[k+'.'+l] = e[l]\n",
    "        else:\n",
    "            data[k] = e\n",
    "    return template.safe_substitute(data)"
   ]
  },
  {
   "cell_type": "code",
   "execution_count": 162,
   "metadata": {
    "scrolled": true
   },
   "outputs": [],
   "source": [
    "simon = get_people('https://en.wikipedia.org/wiki/Herbert_A._Simon')"
   ]
  },
  {
   "cell_type": "code",
   "execution_count": 167,
   "metadata": {},
   "outputs": [],
   "source": [
    "burt = get_people('https://en.wikipedia.org/wiki/Ronald_Stuart_Burt')"
   ]
  },
  {
   "cell_type": "code",
   "execution_count": 168,
   "metadata": {},
   "outputs": [],
   "source": [
    "kaneman = get_people('https://en.wikipedia.org/wiki/Daniel_Kahneman')"
   ]
  },
  {
   "cell_type": "code",
   "execution_count": 169,
   "metadata": {},
   "outputs": [],
   "source": [
    "mccarth = get_people('https://en.wikipedia.org/wiki/John_McCarthy_(computer_scientist)')"
   ]
  },
  {
   "cell_type": "code",
   "execution_count": 118,
   "metadata": {},
   "outputs": [
    {
     "name": "stdout",
     "output_type": "stream",
     "text": [
      "{'Citizenship': 'United States', 'Known for': [{'title': 'Bounded rationality', 'url': 'https://en.wikipedia.org/wiki/Bounded_rationality'}, {'title': 'Satisficing', 'url': 'https://en.wikipedia.org/wiki/Satisficing'}], 'Awards': [{'year': '1967', 'title': 'Member of the National Academy of Sciences', 'url': 'https://en.wikipedia.org/wiki/Member_of_the_National_Academy_of_Sciences'}, {'year': '1975', 'title': 'Turing Award', 'url': 'https://en.wikipedia.org/wiki/Turing_Award'}, {'year': '1978', 'title': 'Nobel Prize in Economics', 'url': 'https://en.wikipedia.org/wiki/Nobel_Prize_in_Economics'}, {'year': '1986', 'title': 'National Medal of Science', 'url': 'https://en.wikipedia.org/wiki/National_Medal_of_Science'}, {'year': '1987', 'title': 'Harold Pender Award', 'url': 'https://en.wikipedia.org/wiki/Harold_Pender_Award'}, {'year': '1988', 'title': 'von Neumann Theory Prize', 'url': 'https://en.wikipedia.org/wiki/John_von_Neumann_Theory_Prize'}, {'year': '1969', 'title': 'APA Award for Distinguished Scientific Contributions to Psychology', 'url': 'https://en.wikipedia.org/wiki/APA_Award_for_Distinguished_Scientific_Contributions_to_Psychology'}, {'year': '1994', 'title': 'ACM Fellow', 'url': 'https://en.wikipedia.org/wiki/ACM_Fellow'}, {'year': '1995', 'title': 'IJCAI Award for Research Excellence', 'url': 'https://en.wikipedia.org/wiki/IJCAI_Award_for_Research_Excellence'}], 'Institutions': [{'title': 'Carnegie Mellon University', 'url': 'https://en.wikipedia.org/wiki/Carnegie_Mellon_University'}], 'Doctoral students': [{'title': 'Edward Feigenbaum', 'url': 'https://en.wikipedia.org/wiki/Edward_Feigenbaum'}, {'title': 'Allen Newell', 'url': 'https://en.wikipedia.org/wiki/Allen_Newell'}, {'title': 'Richard Waldinger', 'url': 'https://en.wikipedia.org/wiki/Richard_Waldinger'}, {'title': 'John Muth', 'url': 'https://en.wikipedia.org/wiki/John_Muth'}, {'title': 'William F. Pounds', 'url': 'https://en.wikipedia.org/wiki/William_F._Pounds'}], 'Fields': [{'title': 'Economics', 'url': 'https://en.wikipedia.org/wiki/Economics'}, {'title': 'Artificial intelligence', 'url': 'https://en.wikipedia.org/wiki/Artificial_intelligence'}, {'title': 'Computer science', 'url': 'https://en.wikipedia.org/wiki/Computer_science'}, {'title': 'Political science', 'url': 'https://en.wikipedia.org/wiki/Political_science'}], 'wiki_url': 'https://en.wikipedia.org/wiki/Herbert_A._Simon', 'Died': {'day': '(2001-02-09)', 'place': 'Pittsburgh, Pennsylvania, U.S.'}, 'Other academic advisors': [{'title': 'Rudolf Carnap', 'url': 'https://en.wikipedia.org/wiki/Rudolf_Carnap'}, {'title': 'Nicholas Rashevsky', 'url': 'https://en.wikipedia.org/wiki/Nicholas_Rashevsky'}, {'title': 'Harold Lasswell', 'url': 'https://en.wikipedia.org/wiki/Harold_Lasswell'}, {'title': 'Charles Merriam', 'url': 'https://en.wikipedia.org/wiki/Charles_Merriam'}, {'title': 'John R. Commons', 'url': 'https://en.wikipedia.org/wiki/John_R._Commons'}], 'Influenced': [{'title': 'Daniel Kahneman', 'url': 'https://en.wikipedia.org/wiki/Daniel_Kahneman'}, {'title': 'Amos Tversky', 'url': 'https://en.wikipedia.org/wiki/Amos_Tversky'}, {'title': 'Gerd Gigerenzer', 'url': 'https://en.wikipedia.org/wiki/Gerd_Gigerenzer'}, {'title': 'James March', 'url': 'https://en.wikipedia.org/wiki/James_March'}, {'title': 'Allen Newell', 'url': 'https://en.wikipedia.org/wiki/Allen_Newell'}, {'title': 'Philip E. Tetlock', 'url': 'https://en.wikipedia.org/wiki/Philip_E._Tetlock'}, {'title': 'Richard Thaler', 'url': 'https://en.wikipedia.org/wiki/Richard_Thaler'}, {'title': 'John Muth', 'url': 'https://en.wikipedia.org/wiki/John_Muth'}, {'title': 'Oliver E. Williamson', 'url': 'https://en.wikipedia.org/wiki/Oliver_E._Williamson'}, {'title': 'Massimo Egidi', 'url': 'https://en.wikipedia.org/wiki/Massimo_Egidi'}, {'title': 'Vela Velupillai', 'url': 'https://en.wikipedia.org/wiki/Vela_Velupillai'}, {'title': 'Ha Joon Chang', 'url': 'https://en.wikipedia.org/wiki/Ha_Joon_Chang'}, {'title': 'William C. Wimsatt', 'url': 'https://en.wikipedia.org/wiki/William_C._Wimsatt'}, {'title': 'Alok Bhargava', 'url': 'https://en.wikipedia.org/wiki/Alok_Bhargava'}, {'title': 'Nassim Nicholas Taleb', 'url': 'https://en.wikipedia.org/wiki/Nassim_Nicholas_Taleb'}], 'Spouse(s)': [{'name': 'Dorothea Isabel Pye[1] (m.\\xa01939)'}], 'Children': '3', 'name': 'Herbert Simon', 'Doctoral advisor': [{'title': 'Henry Schultz', 'url': 'https://en.wikipedia.org/wiki/Henry_Schultz'}], 'Influences': [{'title': 'Richard T. Ely', 'url': 'https://en.wikipedia.org/wiki/Richard_T._Ely'}, {'title': 'John R. Commons', 'url': 'https://en.wikipedia.org/wiki/John_R._Commons'}, {'title': 'Henry George', 'url': 'https://en.wikipedia.org/wiki/Henry_George'}, {'title': 'Chester Barnard', 'url': 'https://en.wikipedia.org/wiki/Chester_Barnard'}, {'title': 'Charles Merriam', 'url': 'https://en.wikipedia.org/wiki/Charles_Merriam'}], 'Alma mater': [{'title': 'University of Chicago', 'url': 'https://en.wikipedia.org/wiki/University_of_Chicago'}], 'Born': {'day': '1916-06-15', 'place': 'Milwaukee, Wisconsin, U.S.'}}\n"
     ]
    }
   ],
   "source": [
    "people = [simon, burt, kaneman, mccarth]\n",
    "ignore = ['Citizenship', 'Nationality', 'Born', 'Died', 'Institutions', 'Doctoral students', 'Fields', 'Known for', \n",
    "          'wiki_url', 'Website',\n",
    "          'Doctoral advisor', 'name', 'Awards', 'Thesis',\n",
    "\n",
    "          'Alma mater', 'Education', 'Residence',\n",
    "          'Other academic advisors', 'Influenced', 'Influences', \n",
    "\n",
    "          'Spouse(s)', 'Children']\n",
    "\n",
    "for main in people:\n",
    "    for k in main.keys():\n",
    "        if k in ignore:\n",
    "            continue\n",
    "        for p in people:\n",
    "            print(p['name'], k, p.get(k))\n",
    "\n",
    "print(simon)"
   ]
  },
  {
   "cell_type": "code",
   "execution_count": 170,
   "metadata": {},
   "outputs": [
    {
     "name": "stdout",
     "output_type": "stream",
     "text": [
      "\n",
      "# Herbert Simon\n",
      "维基百科地址：[Herbert Simon](https://en.wikipedia.org/wiki/Herbert_A._Simon)\n",
      "## 时间\n",
      "### 生卒年月\n",
      "1916-06-15 - (2001-02-09)\n",
      "### 求学经历\n",
      "* [University of Chicago](https://en.wikipedia.org/wiki/University_of_Chicago)\n",
      "\n",
      "## 空间\n",
      "### 学术领域\n",
      "* [Economics](https://en.wikipedia.org/wiki/Economics)\n",
      "* [Artificial intelligence](https://en.wikipedia.org/wiki/Artificial_intelligence)\n",
      "* [Computer science](https://en.wikipedia.org/wiki/Computer_science)\n",
      "* [Political science](https://en.wikipedia.org/wiki/Political_science)\n",
      "\n",
      "### 获奖情况\n",
      "* [Member of the National Academy of Sciences](https://en.wikipedia.org/wiki/Member_of_the_National_Academy_of_Sciences)\n",
      "* [Turing Award](https://en.wikipedia.org/wiki/Turing_Award)\n",
      "* [Nobel Prize in Economics](https://en.wikipedia.org/wiki/Nobel_Prize_in_Economics)\n",
      "* [National Medal of Science](https://en.wikipedia.org/wiki/National_Medal_of_Science)\n",
      "* [Harold Pender Award](https://en.wikipedia.org/wiki/Harold_Pender_Award)\n",
      "* [von Neumann Theory Prize](https://en.wikipedia.org/wiki/John_von_Neumann_Theory_Prize)\n",
      "* [APA Award for Distinguished Scientific Contributions to Psychology](https://en.wikipedia.org/wiki/APA_Award_for_Distinguished_Scientific_Contributions_to_Psychology)\n",
      "* [ACM Fellow](https://en.wikipedia.org/wiki/ACM_Fellow)\n",
      "* [IJCAI Award for Research Excellence](https://en.wikipedia.org/wiki/IJCAI_Award_for_Research_Excellence)\n",
      "\n",
      "### 所属机构\n",
      "* [Carnegie Mellon University](https://en.wikipedia.org/wiki/Carnegie_Mellon_University)\n",
      "\n",
      "## 变量\n",
      "### 主要成就\n",
      "* [Bounded rationality](https://en.wikipedia.org/wiki/Bounded_rationality)\n",
      "* [Satisficing](https://en.wikipedia.org/wiki/Satisficing)\n",
      "\n",
      "### 合作关系\n",
      "\n",
      "### 师承关系\n",
      "#### 老师\n",
      "* [Henry Schultz](https://en.wikipedia.org/wiki/Henry_Schultz)\n",
      "\n",
      "* [Rudolf Carnap](https://en.wikipedia.org/wiki/Rudolf_Carnap)\n",
      "* [Nicholas Rashevsky](https://en.wikipedia.org/wiki/Nicholas_Rashevsky)\n",
      "* [Harold Lasswell](https://en.wikipedia.org/wiki/Harold_Lasswell)\n",
      "* [Charles Merriam](https://en.wikipedia.org/wiki/Charles_Merriam)\n",
      "* [John R. Commons](https://en.wikipedia.org/wiki/John_R._Commons)\n",
      "\n",
      "#### 学生\n",
      "* [Edward Feigenbaum](https://en.wikipedia.org/wiki/Edward_Feigenbaum)\n",
      "* [Allen Newell](https://en.wikipedia.org/wiki/Allen_Newell)\n",
      "* [Richard Waldinger](https://en.wikipedia.org/wiki/Richard_Waldinger)\n",
      "* [John Muth](https://en.wikipedia.org/wiki/John_Muth)\n",
      "* [William F. Pounds](https://en.wikipedia.org/wiki/William_F._Pounds)\n",
      "\n",
      "\n"
     ]
    }
   ],
   "source": [
    "print(render_md(simon))"
   ]
  },
  {
   "cell_type": "code",
   "execution_count": 171,
   "metadata": {},
   "outputs": [
    {
     "name": "stdout",
     "output_type": "stream",
     "text": [
      "\n",
      "# Ronald Stuart Burt\n",
      "维基百科地址：[Ronald Stuart Burt](https://en.wikipedia.org/wiki/Ronald_Stuart_Burt)\n",
      "## 时间\n",
      "### 生卒年月\n",
      "1949 - ${Died.date}\n",
      "### 求学经历\n",
      "* [Johns Hopkins University](https://en.wikipedia.org/wiki/Johns_Hopkins_University)\n",
      "* [University at Albany, SUNY](https://en.wikipedia.org/wiki/University_at_Albany,_SUNY)\n",
      "* [University of Chicago](https://en.wikipedia.org/wiki/University_of_Chicago)\n",
      "\n",
      "## 空间\n",
      "### 学术领域\n",
      "* [Mathematical sociology](https://en.wikipedia.org/wiki/Mathematical_sociology)\n",
      "* [social networks](https://en.wikipedia.org/wiki/Social_network)\n",
      "\n",
      "### 获奖情况\n",
      "* Distinguished Scholar of Organizations and Management Theory\n",
      "* Academy of Management (2007)  Fellow\n",
      "* American Academy of Arts and Sciences (1993)  Fellow\n",
      "* Center for Advanced Study in the Behavioral Sciences (1984)\n",
      "\n",
      "### 所属机构\n",
      "* [University of Chicago](https://en.wikipedia.org/wiki/University_of_Chicago)\n",
      "* [Columbia University](https://en.wikipedia.org/wiki/Columbia_University)\n",
      "* [University of California, Berkeley](https://en.wikipedia.org/wiki/University_of_California,_Berkeley)\n",
      "\n",
      "## 变量\n",
      "### 主要成就\n",
      "* [Structural holes](https://en.wikipedia.org/w/index.php?title=Structural_hole&action=edit&redlink=1)\n",
      "* [social capital](https://en.wikipedia.org/wiki/Social_capital)\n",
      "\n",
      "### 合作关系\n",
      "\n",
      "### 师承关系\n",
      "#### 老师\n",
      "* [James Samuel Coleman](https://en.wikipedia.org/wiki/James_Samuel_Coleman)\n",
      "\n",
      "${Other_academic_advisors}\n",
      "#### 学生\n",
      "${Doctoral_students}\n",
      "\n"
     ]
    }
   ],
   "source": [
    "print(render_md(burt))"
   ]
  },
  {
   "cell_type": "code",
   "execution_count": null,
   "metadata": {},
   "outputs": [],
   "source": []
  }
 ],
 "metadata": {
  "kernelspec": {
   "display_name": "Python 3",
   "language": "python",
   "name": "python3"
  },
  "language_info": {
   "codemirror_mode": {
    "name": "ipython",
    "version": 3
   },
   "file_extension": ".py",
   "mimetype": "text/x-python",
   "name": "python",
   "nbconvert_exporter": "python",
   "pygments_lexer": "ipython3",
   "version": "3.5.2"
  }
 },
 "nbformat": 4,
 "nbformat_minor": 2
}
