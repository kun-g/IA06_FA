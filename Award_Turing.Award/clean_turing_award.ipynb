{
 "cells": [
  {
   "cell_type": "code",
   "execution_count": null,
   "metadata": {},
   "outputs": [],
   "source": [
    "#!/usr/bin/env python\n",
    "# coding: utf-8\n",
    "import csv\n",
    "import json\n",
    "from bs4 import BeautifulSoup\n",
    "from bs4 import NavigableString"
   ]
  },
  {
   "cell_type": "code",
   "execution_count": 63,
   "metadata": {},
   "outputs": [],
   "source": [
    "def process_left(data):\n",
    "    bs = BeautifulSoup(data, 'html.parser')\n",
    "    res = {}\n",
    "    label = None\n",
    "    \n",
    "    for c in bs.contents:\n",
    "        if isinstance(c, NavigableString):\n",
    "            pass\n",
    "        elif c.select('img'):\n",
    "            res['image'] = base + c.a.img.attrs['src']\n",
    "        elif c.name == 'h6':\n",
    "            label = c.text[:-1]\n",
    "        elif label:\n",
    "            res[label] = c.text.split(';')\n",
    "            label = None\n",
    "        elif len(c.text.strip()) > 0:\n",
    "            t = c.text.strip()\n",
    "            if label == None and t[-1] == ':':\n",
    "                label = t[-1]\n",
    "            elif label:\n",
    "                res[label] = t\n",
    "            elif t.find(':') != -1:\n",
    "                r = t.split(':')\n",
    "                res[t[0]] = t[1]\n",
    "            else:\n",
    "                print('====>', c.text)\n",
    "    \n",
    "    return res"
   ]
  },
  {
   "cell_type": "code",
   "execution_count": 51,
   "metadata": {},
   "outputs": [],
   "source": [
    "def process_bib(data):\n",
    "    bs = BeautifulSoup(data, 'html.parser')\n",
    "    res = {\n",
    "        'bib': data,\n",
    "        'bib_text': bs.text\n",
    "    }\n",
    "    return res"
   ]
  },
  {
   "cell_type": "code",
   "execution_count": 52,
   "metadata": {},
   "outputs": [],
   "source": [
    "def process_extra(data):\n",
    "    bs = BeautifulSoup(data, 'html.parser')\n",
    "    res = {}\n",
    "    label = None\n",
    "    \n",
    "    for c in bs.select(\"li\"):\n",
    "        key = c.attrs['class'][0]\n",
    "        link = c.a.attrs['href']\n",
    "        if link[0] == '/':\n",
    "            link = base + link\n",
    "\n",
    "        res[key] = link\n",
    "    \n",
    "    return res"
   ]
  },
  {
   "cell_type": "code",
   "execution_count": 68,
   "metadata": {
    "scrolled": false
   },
   "outputs": [
    {
     "name": "stdout",
     "output_type": "stream",
     "text": [
      "====> The University of Oslo and the University of Aarhus have both named a building after Kristen Nygaard.\n",
      "70\n"
     ]
    }
   ],
   "source": [
    "url_csv = 'turing_award_page1.csv'\n",
    "\n",
    "base = 'https://amturing.acm.org'\n",
    "\n",
    "data = {}\n",
    "\n",
    "with open(url_csv, newline='') as csvfile:\n",
    "    reader = csv.DictReader(csvfile)\n",
    "    for row in reader:\n",
    "        name = row['name']\n",
    "        data[name] = {\n",
    "            'citation': row['citation'],\n",
    "            'url': row['web-scraper-start-url'],\n",
    "            'dl_link': row['dl_link-href']\n",
    "        }\n",
    "\n",
    "        d = (process_left(row['left']), process_bib(row['bib']), process_extra(row['extra']))\n",
    "        \n",
    "        for e in d:\n",
    "            for k in e:\n",
    "                data[name][k] = e[k]\n",
    "\n",
    "#print(json.dumps(data))\n",
    "#print(data.keys())\n",
    "print(len(data.keys()))\n",
    "#print(data['Alan J Perlis'])\n",
    "\n",
    "with open('./turing_award.json', 'w') as jsonFile:\n",
    "    json.dump(data, jsonFile, indent=4)\n"
   ]
  },
  {
   "cell_type": "code",
   "execution_count": null,
   "metadata": {},
   "outputs": [],
   "source": []
  }
 ],
 "metadata": {
  "kernelspec": {
   "display_name": "spider",
   "language": "python",
   "name": "spider"
  },
  "language_info": {
   "codemirror_mode": {
    "name": "ipython",
    "version": 3
   },
   "file_extension": ".py",
   "mimetype": "text/x-python",
   "name": "python",
   "nbconvert_exporter": "python",
   "pygments_lexer": "ipython3",
   "version": "3.7.4"
  }
 },
 "nbformat": 4,
 "nbformat_minor": 2
}
